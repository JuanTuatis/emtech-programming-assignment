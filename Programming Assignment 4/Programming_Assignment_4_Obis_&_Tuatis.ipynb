{
 "cells": [
  {
   "cell_type": "markdown",
   "metadata": {},
   "source": [
    "### Programming Assignment 4 \n",
    "# **Support Vector Machine**\n",
    "\n",
    "AJ Dave A. Obis and Juan Francis C. Tuatis"
   ]
  },
  {
   "cell_type": "code",
   "execution_count": null,
   "metadata": {},
   "outputs": [],
   "source": [
    "## Import liblaries need for the exercise\n",
    "import sklearn.datasets\n",
    "import pandas as pd \n",
    "from sklearn.model_selection import train_test_split\n",
    "from sklearn.svm import SVC\n",
    "from sklearn.pipeline import Pipeline\n",
    "from sklearn.preprocessing import StandardScaler\n",
    "from sklearn.metrics import confusion_matrix, ConfusionMatrixDisplay\n",
    "import matplotlib.pyplot as plt"
   ]
  },
  {
   "cell_type": "markdown",
   "metadata": {},
   "source": [
    "#### 1. Load the dataset using sklearn.datasets.load_breast_cancer()."
   ]
  },
  {
   "cell_type": "code",
<<<<<<< HEAD
   "execution_count": null,
=======
   "execution_count": 1,
>>>>>>> 8b076906a1cdbd1689493c49b2c34c63bd0c3c2a
   "metadata": {},
   "outputs": [
    {
     "name": "stdout",
     "output_type": "stream",
     "text": [
      "dict_keys(['data', 'target', 'frame', 'target_names', 'DESCR', 'feature_names', 'filename', 'data_module'])\n"
     ]
    },
    {
     "data": {
      "text/html": [
       "<div>\n",
       "<style scoped>\n",
       "    .dataframe tbody tr th:only-of-type {\n",
       "        vertical-align: middle;\n",
       "    }\n",
       "\n",
       "    .dataframe tbody tr th {\n",
       "        vertical-align: top;\n",
       "    }\n",
       "\n",
       "    .dataframe thead th {\n",
       "        text-align: right;\n",
       "    }\n",
       "</style>\n",
       "<table border=\"1\" class=\"dataframe\">\n",
       "  <thead>\n",
       "    <tr style=\"text-align: right;\">\n",
       "      <th></th>\n",
       "      <th>mean radius</th>\n",
       "      <th>mean texture</th>\n",
       "      <th>mean perimeter</th>\n",
       "      <th>mean area</th>\n",
       "      <th>mean smoothness</th>\n",
       "      <th>mean compactness</th>\n",
       "      <th>mean concavity</th>\n",
       "      <th>mean concave points</th>\n",
       "      <th>mean symmetry</th>\n",
       "      <th>mean fractal dimension</th>\n",
       "      <th>...</th>\n",
       "      <th>worst radius</th>\n",
       "      <th>worst texture</th>\n",
       "      <th>worst perimeter</th>\n",
       "      <th>worst area</th>\n",
       "      <th>worst smoothness</th>\n",
       "      <th>worst compactness</th>\n",
       "      <th>worst concavity</th>\n",
       "      <th>worst concave points</th>\n",
       "      <th>worst symmetry</th>\n",
       "      <th>worst fractal dimension</th>\n",
       "    </tr>\n",
       "  </thead>\n",
       "  <tbody>\n",
       "    <tr>\n",
       "      <th>0</th>\n",
       "      <td>17.99</td>\n",
       "      <td>10.38</td>\n",
       "      <td>122.80</td>\n",
       "      <td>1001.0</td>\n",
       "      <td>0.11840</td>\n",
       "      <td>0.27760</td>\n",
       "      <td>0.3001</td>\n",
       "      <td>0.14710</td>\n",
       "      <td>0.2419</td>\n",
       "      <td>0.07871</td>\n",
       "      <td>...</td>\n",
       "      <td>25.38</td>\n",
       "      <td>17.33</td>\n",
       "      <td>184.60</td>\n",
       "      <td>2019.0</td>\n",
       "      <td>0.1622</td>\n",
       "      <td>0.6656</td>\n",
       "      <td>0.7119</td>\n",
       "      <td>0.2654</td>\n",
       "      <td>0.4601</td>\n",
       "      <td>0.11890</td>\n",
       "    </tr>\n",
       "    <tr>\n",
       "      <th>1</th>\n",
       "      <td>20.57</td>\n",
       "      <td>17.77</td>\n",
       "      <td>132.90</td>\n",
       "      <td>1326.0</td>\n",
       "      <td>0.08474</td>\n",
       "      <td>0.07864</td>\n",
       "      <td>0.0869</td>\n",
       "      <td>0.07017</td>\n",
       "      <td>0.1812</td>\n",
       "      <td>0.05667</td>\n",
       "      <td>...</td>\n",
       "      <td>24.99</td>\n",
       "      <td>23.41</td>\n",
       "      <td>158.80</td>\n",
       "      <td>1956.0</td>\n",
       "      <td>0.1238</td>\n",
       "      <td>0.1866</td>\n",
       "      <td>0.2416</td>\n",
       "      <td>0.1860</td>\n",
       "      <td>0.2750</td>\n",
       "      <td>0.08902</td>\n",
       "    </tr>\n",
       "    <tr>\n",
       "      <th>2</th>\n",
       "      <td>19.69</td>\n",
       "      <td>21.25</td>\n",
       "      <td>130.00</td>\n",
       "      <td>1203.0</td>\n",
       "      <td>0.10960</td>\n",
       "      <td>0.15990</td>\n",
       "      <td>0.1974</td>\n",
       "      <td>0.12790</td>\n",
       "      <td>0.2069</td>\n",
       "      <td>0.05999</td>\n",
       "      <td>...</td>\n",
       "      <td>23.57</td>\n",
       "      <td>25.53</td>\n",
       "      <td>152.50</td>\n",
       "      <td>1709.0</td>\n",
       "      <td>0.1444</td>\n",
       "      <td>0.4245</td>\n",
       "      <td>0.4504</td>\n",
       "      <td>0.2430</td>\n",
       "      <td>0.3613</td>\n",
       "      <td>0.08758</td>\n",
       "    </tr>\n",
       "    <tr>\n",
       "      <th>3</th>\n",
       "      <td>11.42</td>\n",
       "      <td>20.38</td>\n",
       "      <td>77.58</td>\n",
       "      <td>386.1</td>\n",
       "      <td>0.14250</td>\n",
       "      <td>0.28390</td>\n",
       "      <td>0.2414</td>\n",
       "      <td>0.10520</td>\n",
       "      <td>0.2597</td>\n",
       "      <td>0.09744</td>\n",
       "      <td>...</td>\n",
       "      <td>14.91</td>\n",
       "      <td>26.50</td>\n",
       "      <td>98.87</td>\n",
       "      <td>567.7</td>\n",
       "      <td>0.2098</td>\n",
       "      <td>0.8663</td>\n",
       "      <td>0.6869</td>\n",
       "      <td>0.2575</td>\n",
       "      <td>0.6638</td>\n",
       "      <td>0.17300</td>\n",
       "    </tr>\n",
       "    <tr>\n",
       "      <th>4</th>\n",
       "      <td>20.29</td>\n",
       "      <td>14.34</td>\n",
       "      <td>135.10</td>\n",
       "      <td>1297.0</td>\n",
       "      <td>0.10030</td>\n",
       "      <td>0.13280</td>\n",
       "      <td>0.1980</td>\n",
       "      <td>0.10430</td>\n",
       "      <td>0.1809</td>\n",
       "      <td>0.05883</td>\n",
       "      <td>...</td>\n",
       "      <td>22.54</td>\n",
       "      <td>16.67</td>\n",
       "      <td>152.20</td>\n",
       "      <td>1575.0</td>\n",
       "      <td>0.1374</td>\n",
       "      <td>0.2050</td>\n",
       "      <td>0.4000</td>\n",
       "      <td>0.1625</td>\n",
       "      <td>0.2364</td>\n",
       "      <td>0.07678</td>\n",
       "    </tr>\n",
       "  </tbody>\n",
       "</table>\n",
       "<p>5 rows × 30 columns</p>\n",
       "</div>"
      ],
      "text/plain": [
       "   mean radius  mean texture  mean perimeter  mean area  mean smoothness  \\\n",
       "0        17.99         10.38          122.80     1001.0          0.11840   \n",
       "1        20.57         17.77          132.90     1326.0          0.08474   \n",
       "2        19.69         21.25          130.00     1203.0          0.10960   \n",
       "3        11.42         20.38           77.58      386.1          0.14250   \n",
       "4        20.29         14.34          135.10     1297.0          0.10030   \n",
       "\n",
       "   mean compactness  mean concavity  mean concave points  mean symmetry  \\\n",
       "0           0.27760          0.3001              0.14710         0.2419   \n",
       "1           0.07864          0.0869              0.07017         0.1812   \n",
       "2           0.15990          0.1974              0.12790         0.2069   \n",
       "3           0.28390          0.2414              0.10520         0.2597   \n",
       "4           0.13280          0.1980              0.10430         0.1809   \n",
       "\n",
       "   mean fractal dimension  ...  worst radius  worst texture  worst perimeter  \\\n",
       "0                 0.07871  ...         25.38          17.33           184.60   \n",
       "1                 0.05667  ...         24.99          23.41           158.80   \n",
       "2                 0.05999  ...         23.57          25.53           152.50   \n",
       "3                 0.09744  ...         14.91          26.50            98.87   \n",
       "4                 0.05883  ...         22.54          16.67           152.20   \n",
       "\n",
       "   worst area  worst smoothness  worst compactness  worst concavity  \\\n",
       "0      2019.0            0.1622             0.6656           0.7119   \n",
       "1      1956.0            0.1238             0.1866           0.2416   \n",
       "2      1709.0            0.1444             0.4245           0.4504   \n",
       "3       567.7            0.2098             0.8663           0.6869   \n",
       "4      1575.0            0.1374             0.2050           0.4000   \n",
       "\n",
       "   worst concave points  worst symmetry  worst fractal dimension  \n",
       "0                0.2654          0.4601                  0.11890  \n",
       "1                0.1860          0.2750                  0.08902  \n",
       "2                0.2430          0.3613                  0.08758  \n",
       "3                0.2575          0.6638                  0.17300  \n",
       "4                0.1625          0.2364                  0.07678  \n",
       "\n",
       "[5 rows x 30 columns]"
      ]
     },
     "metadata": {},
     "output_type": "display_data"
    },
    {
     "name": "stdout",
     "output_type": "stream",
     "text": [
      "<class 'pandas.core.frame.DataFrame'>\n",
      "RangeIndex: 569 entries, 0 to 568\n",
      "Data columns (total 30 columns):\n",
      " #   Column                   Non-Null Count  Dtype  \n",
      "---  ------                   --------------  -----  \n",
      " 0   mean radius              569 non-null    float64\n",
      " 1   mean texture             569 non-null    float64\n",
      " 2   mean perimeter           569 non-null    float64\n",
      " 3   mean area                569 non-null    float64\n",
      " 4   mean smoothness          569 non-null    float64\n",
      " 5   mean compactness         569 non-null    float64\n",
      " 6   mean concavity           569 non-null    float64\n",
      " 7   mean concave points      569 non-null    float64\n",
      " 8   mean symmetry            569 non-null    float64\n",
      " 9   mean fractal dimension   569 non-null    float64\n",
      " 10  radius error             569 non-null    float64\n",
      " 11  texture error            569 non-null    float64\n",
      " 12  perimeter error          569 non-null    float64\n",
      " 13  area error               569 non-null    float64\n",
      " 14  smoothness error         569 non-null    float64\n",
      " 15  compactness error        569 non-null    float64\n",
      " 16  concavity error          569 non-null    float64\n",
      " 17  concave points error     569 non-null    float64\n",
      " 18  symmetry error           569 non-null    float64\n",
      " 19  fractal dimension error  569 non-null    float64\n",
      " 20  worst radius             569 non-null    float64\n",
      " 21  worst texture            569 non-null    float64\n",
      " 22  worst perimeter          569 non-null    float64\n",
      " 23  worst area               569 non-null    float64\n",
      " 24  worst smoothness         569 non-null    float64\n",
      " 25  worst compactness        569 non-null    float64\n",
      " 26  worst concavity          569 non-null    float64\n",
      " 27  worst concave points     569 non-null    float64\n",
      " 28  worst symmetry           569 non-null    float64\n",
      " 29  worst fractal dimension  569 non-null    float64\n",
      "dtypes: float64(30)\n",
      "memory usage: 133.5 KB\n"
     ]
    }
   ],
   "source": [
    "bc_dataset = sklearn.datasets.load_breast_cancer()\n",
    "print(bc_dataset.keys())\n",
    "\n",
    "# Convert the data to DataFrame\n",
    "bc_df = pd.DataFrame(bc_dataset['data'])\n",
    "\n",
    "# Map feature_names to the DataFrame \n",
    "bc_df.columns = bc_dataset['feature_names']\n",
    "\n",
    "display(bc_df.head())\n",
    "bc_df.shape\n",
    "bc_df.info()"
   ]
  },
  {
   "cell_type": "code",
<<<<<<< HEAD
   "execution_count": 44,
=======
   "execution_count": 2,
>>>>>>> 8b076906a1cdbd1689493c49b2c34c63bd0c3c2a
   "metadata": {},
   "outputs": [
    {
     "data": {
      "text/plain": [
       "array([0, 0, 0, 0, 0, 0, 0, 0, 0, 0, 0, 0, 0, 0, 0, 0, 0, 0, 0, 1, 1, 1,\n",
       "       0, 0, 0, 0, 0, 0, 0, 0, 0, 0, 0, 0, 0, 0, 0, 1, 0, 0, 0, 0, 0, 0,\n",
       "       0, 0, 1, 0, 1, 1, 1, 1, 1, 0, 0, 1, 0, 0, 1, 1, 1, 1, 0, 1, 0, 0,\n",
       "       1, 1, 1, 1, 0, 1, 0, 0, 1, 0, 1, 0, 0, 1, 1, 1, 0, 0, 1, 0, 0, 0,\n",
       "       1, 1, 1, 0, 1, 1, 0, 0, 1, 1, 1, 0, 0, 1, 1, 1, 1, 0, 1, 1, 0, 1,\n",
       "       1, 1, 1, 1, 1, 1, 1, 0, 0, 0, 1, 0, 0, 1, 1, 1, 0, 0, 1, 0, 1, 0,\n",
       "       0, 1, 0, 0, 1, 1, 0, 1, 1, 0, 1, 1, 1, 1, 0, 1, 1, 1, 1, 1, 1, 1,\n",
       "       1, 1, 0, 1, 1, 1, 1, 0, 0, 1, 0, 1, 1, 0, 0, 1, 1, 0, 0, 1, 1, 1,\n",
       "       1, 0, 1, 1, 0, 0, 0, 1, 0, 1, 0, 1, 1, 1, 0, 1, 1, 0, 0, 1, 0, 0,\n",
       "       0, 0, 1, 0, 0, 0, 1, 0, 1, 0, 1, 1, 0, 1, 0, 0, 0, 0, 1, 1, 0, 0,\n",
       "       1, 1, 1, 0, 1, 1, 1, 1, 1, 0, 0, 1, 1, 0, 1, 1, 0, 0, 1, 0, 1, 1,\n",
       "       1, 1, 0, 1, 1, 1, 1, 1, 0, 1, 0, 0, 0, 0, 0, 0, 0, 0, 0, 0, 0, 0,\n",
       "       0, 0, 1, 1, 1, 1, 1, 1, 0, 1, 0, 1, 1, 0, 1, 1, 0, 1, 0, 0, 1, 1,\n",
       "       1, 1, 1, 1, 1, 1, 1, 1, 1, 1, 1, 0, 1, 1, 0, 1, 0, 1, 1, 1, 1, 1,\n",
       "       1, 1, 1, 1, 1, 1, 1, 1, 1, 0, 1, 1, 1, 0, 1, 0, 1, 1, 1, 1, 0, 0,\n",
       "       0, 1, 1, 1, 1, 0, 1, 0, 1, 0, 1, 1, 1, 0, 1, 1, 1, 1, 1, 1, 1, 0,\n",
       "       0, 0, 1, 1, 1, 1, 1, 1, 1, 1, 1, 1, 1, 0, 0, 1, 0, 0, 0, 1, 0, 0,\n",
       "       1, 1, 1, 1, 1, 0, 1, 1, 1, 1, 1, 0, 1, 1, 1, 0, 1, 1, 0, 0, 1, 1,\n",
       "       1, 1, 1, 1, 0, 1, 1, 1, 1, 1, 1, 1, 0, 1, 1, 1, 1, 1, 0, 1, 1, 0,\n",
       "       1, 1, 1, 1, 1, 1, 1, 1, 1, 1, 1, 1, 0, 1, 0, 0, 1, 0, 1, 1, 1, 1,\n",
       "       1, 0, 1, 1, 0, 1, 0, 1, 1, 0, 1, 0, 1, 1, 1, 1, 1, 1, 1, 1, 0, 0,\n",
       "       1, 1, 1, 1, 1, 1, 0, 1, 1, 1, 1, 1, 1, 1, 1, 1, 1, 0, 1, 1, 1, 1,\n",
       "       1, 1, 1, 0, 1, 0, 1, 1, 0, 1, 1, 1, 1, 1, 0, 0, 1, 0, 1, 0, 1, 1,\n",
       "       1, 1, 1, 0, 1, 1, 0, 1, 0, 1, 0, 0, 1, 1, 1, 0, 1, 1, 1, 1, 1, 1,\n",
       "       1, 1, 1, 1, 1, 0, 1, 0, 0, 1, 1, 1, 1, 1, 1, 1, 1, 1, 1, 1, 1, 1,\n",
       "       1, 1, 1, 1, 1, 1, 1, 1, 1, 1, 1, 1, 0, 0, 0, 0, 0, 0, 1])"
      ]
     },
     "metadata": {},
     "output_type": "display_data"
    },
    {
     "name": "stdout",
     "output_type": "stream",
     "text": [
      "['malignant' 'benign']\n"
     ]
    }
   ],
   "source": [
    "# Obtain the Target DataFrame\n",
    "targets = bc_dataset['target']\n",
    "display(targets)\n",
    "print(bc_dataset['target_names'])"
   ]
  },
  {
   "cell_type": "markdown",
   "metadata": {},
   "source": [
    "### 2. Split the dataset into 70% Training and 30% Testing, ensuring class distribution is maintained (use stratify = y in train_testt_split)"
   ]
  },
  {
   "cell_type": "code",
<<<<<<< HEAD
   "execution_count": null,
=======
   "execution_count": 3,
>>>>>>> 8b076906a1cdbd1689493c49b2c34c63bd0c3c2a
   "metadata": {},
   "outputs": [],
   "source": [
    "# Split the dataset into 70-30\n",
    "X_train,X_test,y_train,y_test = train_test_split(bc_df,targets,test_size = 0.30,stratify=targets)"
   ]
  },
  {
   "cell_type": "markdown",
   "metadata": {},
   "source": [
    "### 3. Preprocess the data: Use StandardScaler to normalize feature values."
   ]
  },
  {
   "cell_type": "code",
<<<<<<< HEAD
   "execution_count": null,
=======
   "execution_count": 5,
   "metadata": {},
   "outputs": [],
   "source": [
    "from sklearn.svm import SVC\n",
    "from sklearn.pipeline import Pipeline\n",
    "from sklearn.preprocessing import StandardScaler\n",
    "\n",
    "# Training with default parameters\n",
    "pipe = Pipeline([('scaler', StandardScaler()), ('svc', SVC())])"
   ]
  },
  {
   "cell_type": "markdown",
   "metadata": {},
   "source": [
    "### 4. Train an SVM model using sklearn.svm.SVC with default parameters."
   ]
  },
  {
   "cell_type": "code",
   "execution_count": 7,
>>>>>>> 8b076906a1cdbd1689493c49b2c34c63bd0c3c2a
   "metadata": {},
   "outputs": [
    {
     "name": "stdout",
     "output_type": "stream",
     "text": [
      "Default parameters Accuracy Score: 96.49%\n"
     ]
    },
    {
     "data": {
      "image/png": "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",
      "text/plain": [
       "<Figure size 640x480 with 2 Axes>"
      ]
     },
     "metadata": {},
     "output_type": "display_data"
    }
   ],
   "source": [
<<<<<<< HEAD
    "# Training with default parameters\n",
    "pipe = Pipeline([('scaler', StandardScaler()), ('svc', SVC())])\n",
    "SVC_default = pipe.fit(X_train, y_train)\n",
    "score_default = SVC_default.score(X_test, y_test) # Will pass the training data to the model, Score will generate the accuracy score\n",
    "\n",
    "print(f\"Default parameters Accuracy Score: {round(score_default*100,2)}%\")\n",
    "\n",
    "\n",
    "# Prediction on the Test dataset\n",
    "y_pred = SVC_default.predict(X_test)\n",
    "\n",
    "# Confusion Matrix\n",
    "conf_mat = confusion_matrix(y_test, y_pred)\n",
    "# Display the confusion matrix\n",
    "disp = ConfusionMatrixDisplay(confusion_matrix = conf_mat, display_labels = bc_dataset['target_names'])\n",
    "disp.plot(cmap=\"YlGn\")\n",
    "\n",
    "plt.title\n",
    "plt.show()"
=======
    "#edit pa\n",
    "\n",
    "SVC_default = pipe.fit(X_train, y_train)\n",
    "score_default = SVC_default.score(X_test, y_test) # Will pass the training data to the model, Score will generate the accuracy score\n",
    "\n",
    "print(f\"Default parameters Accuracy Score: {round(score_default*100,2)}%\")"
   ]
  },
  {
   "cell_type": "markdown",
   "metadata": {},
   "source": [
    "### 5. Perform Hyperparameter Tuning..."
   ]
  },
  {
   "cell_type": "code",
   "execution_count": null,
   "metadata": {},
   "outputs": [],
   "source": [
    "from sklearn.metrics import confusion_matrix, ConfusionMatrixDisplay\n",
    "import matplotlib as plt"
>>>>>>> 8b076906a1cdbd1689493c49b2c34c63bd0c3c2a
   ]
  }
 ],
 "metadata": {
  "kernelspec": {
   "display_name": "Python 3",
   "language": "python",
   "name": "python3"
  },
  "language_info": {
   "codemirror_mode": {
    "name": "ipython",
    "version": 3
   },
   "file_extension": ".py",
   "mimetype": "text/x-python",
   "name": "python",
   "nbconvert_exporter": "python",
   "pygments_lexer": "ipython3",
   "version": "3.13.0"
  }
 },
 "nbformat": 4,
 "nbformat_minor": 2
}
