{
 "cells": [
  {
   "cell_type": "markdown",
   "metadata": {},
   "source": [
    "### Programming Assignment 3 \n",
    "# **Logicstic Regression**\n",
    "\n",
    "AJ Dave A. Obis and Juan Francis C. Tuatis"
   ]
  },
  {
   "cell_type": "code",
   "execution_count": 1,
   "metadata": {},
   "outputs": [],
   "source": [
    "# Import necessary libraries\n",
    "import pandas as pd\n",
    "from sklearn.model_selection import train_test_split\n",
    "from sklearn.pipeline import Pipeline\n",
    "from sklearn.preprocessing import StandardScaler\n",
    "from sklearn.linear_model import LogisticRegression\n",
    "from sklearn.metrics import accuracy_score, confusion_matrix, roc_curve, roc_auc_score\n",
    "import numpy as np\n",
    "import matplotlib.pyplot as plt\n",
    "\n",
    "# Load the data\n",
    "# Define column names based on the dataset description\n",
    "dataset_columns = [\n",
    "    \"ID\", \"Diagnosis\", \"Radius_Mean\", \"Texture_Mean\", \"Perimeter_Mean\", \"Area_Mean\",\n",
    "    \"Smoothness_Mean\", \"Compactness_Mean\", \"Concavity_Mean\", \"Concave_Points_Mean\",\n",
    "    \"Symmetry_Mean\", \"Fractal_Dimension_Mean\", \"Radius_SE\", \"Texture_SE\", \"Perimeter_SE\",\n",
    "    \"Area_SE\", \"Smoothness_SE\", \"Compactness_SE\", \"Concavity_SE\", \"Concave_Points_SE\",\n",
    "    \"Symmetry_SE\", \"Fractal_Dimension_SE\", \"Radius_Worst\", \"Texture_Worst\", \"Perimeter_Worst\",\n",
    "    \"Area_Worst\", \"Smoothness_Worst\", \"Compactness_Worst\", \"Concavity_Worst\", \"Concave_Points_Worst\",\n",
    "    \"Symmetry_Worst\", \"Fractal_Dimension_Worst\"\n",
    "]\n",
    "\n",
    "# Read the data into a DataFrame\n",
    "data = pd.read_csv(\"wdbc.data\", header=None, names=dataset_columns)"
   ]
  },
  {
   "cell_type": "markdown",
   "metadata": {},
   "source": [
    "### Data Pre-Processing"
   ]
  },
  {
   "cell_type": "code",
   "execution_count": 2,
   "metadata": {},
   "outputs": [
    {
     "name": "stdout",
     "output_type": "stream",
     "text": [
      "     Diagnosis  Radius_Mean  Texture_Mean  Perimeter_Mean  Area_Mean  \\\n",
      "0            1        17.99         10.38          122.80     1001.0   \n",
      "1            1        20.57         17.77          132.90     1326.0   \n",
      "2            1        19.69         21.25          130.00     1203.0   \n",
      "3            1        11.42         20.38           77.58      386.1   \n",
      "4            1        20.29         14.34          135.10     1297.0   \n",
      "..         ...          ...           ...             ...        ...   \n",
      "564          1        21.56         22.39          142.00     1479.0   \n",
      "565          1        20.13         28.25          131.20     1261.0   \n",
      "566          1        16.60         28.08          108.30      858.1   \n",
      "567          1        20.60         29.33          140.10     1265.0   \n",
      "568          0         7.76         24.54           47.92      181.0   \n",
      "\n",
      "     Smoothness_Mean  Compactness_Mean  Concavity_Mean  Concave_Points_Mean  \\\n",
      "0            0.11840           0.27760         0.30010              0.14710   \n",
      "1            0.08474           0.07864         0.08690              0.07017   \n",
      "2            0.10960           0.15990         0.19740              0.12790   \n",
      "3            0.14250           0.28390         0.24140              0.10520   \n",
      "4            0.10030           0.13280         0.19800              0.10430   \n",
      "..               ...               ...             ...                  ...   \n",
      "564          0.11100           0.11590         0.24390              0.13890   \n",
      "565          0.09780           0.10340         0.14400              0.09791   \n",
      "566          0.08455           0.10230         0.09251              0.05302   \n",
      "567          0.11780           0.27700         0.35140              0.15200   \n",
      "568          0.05263           0.04362         0.00000              0.00000   \n",
      "\n",
      "     Symmetry_Mean  ...  Radius_Worst  Texture_Worst  Perimeter_Worst  \\\n",
      "0           0.2419  ...        25.380          17.33           184.60   \n",
      "1           0.1812  ...        24.990          23.41           158.80   \n",
      "2           0.2069  ...        23.570          25.53           152.50   \n",
      "3           0.2597  ...        14.910          26.50            98.87   \n",
      "4           0.1809  ...        22.540          16.67           152.20   \n",
      "..             ...  ...           ...            ...              ...   \n",
      "564         0.1726  ...        25.450          26.40           166.10   \n",
      "565         0.1752  ...        23.690          38.25           155.00   \n",
      "566         0.1590  ...        18.980          34.12           126.70   \n",
      "567         0.2397  ...        25.740          39.42           184.60   \n",
      "568         0.1587  ...         9.456          30.37            59.16   \n",
      "\n",
      "     Area_Worst  Smoothness_Worst  Compactness_Worst  Concavity_Worst  \\\n",
      "0        2019.0           0.16220            0.66560           0.7119   \n",
      "1        1956.0           0.12380            0.18660           0.2416   \n",
      "2        1709.0           0.14440            0.42450           0.4504   \n",
      "3         567.7           0.20980            0.86630           0.6869   \n",
      "4        1575.0           0.13740            0.20500           0.4000   \n",
      "..          ...               ...                ...              ...   \n",
      "564      2027.0           0.14100            0.21130           0.4107   \n",
      "565      1731.0           0.11660            0.19220           0.3215   \n",
      "566      1124.0           0.11390            0.30940           0.3403   \n",
      "567      1821.0           0.16500            0.86810           0.9387   \n",
      "568       268.6           0.08996            0.06444           0.0000   \n",
      "\n",
      "     Concave_Points_Worst  Symmetry_Worst  Fractal_Dimension_Worst  \n",
      "0                  0.2654          0.4601                  0.11890  \n",
      "1                  0.1860          0.2750                  0.08902  \n",
      "2                  0.2430          0.3613                  0.08758  \n",
      "3                  0.2575          0.6638                  0.17300  \n",
      "4                  0.1625          0.2364                  0.07678  \n",
      "..                    ...             ...                      ...  \n",
      "564                0.2216          0.2060                  0.07115  \n",
      "565                0.1628          0.2572                  0.06637  \n",
      "566                0.1418          0.2218                  0.07820  \n",
      "567                0.2650          0.4087                  0.12400  \n",
      "568                0.0000          0.2871                  0.07039  \n",
      "\n",
      "[569 rows x 31 columns]\n"
     ]
    }
   ],
   "source": [
    "# remove rows with missing values\n",
    "data.dropna(inplace=True)\n",
    "\n",
    "# remove the column \"Sample code number\"\n",
    "data.drop(columns=['ID'], inplace=True)\n",
    "\n",
    "# replace \"Class\" values: 0 for benign, 1 for malignant\n",
    "data[\"Diagnosis\"] = data[\"Diagnosis\"].map({\"M\": 1, \"B\": 0})\n",
    "\n",
    "# Display the first few rows of the processed DataFrame\n",
    "print(data)"
   ]
  },
  {
   "cell_type": "markdown",
   "metadata": {},
   "source": [
    "# **General Guidelines**\n",
    "## 1. Split the samples into 70% Training and 30% Testing at random.\n"
   ]
  },
  {
   "cell_type": "code",
   "execution_count": 3,
   "metadata": {},
   "outputs": [
    {
     "name": "stdout",
     "output_type": "stream",
     "text": [
      "Training and Testing Split:\n",
      "X_train: (398, 30), X_test: (171, 30)\n",
      "y_train: (398,), y_test: (171,)\n"
     ]
    }
   ],
   "source": [
    "# Define features (X) and labels (y)\n",
    "X = data.iloc[:, 1:]  # All columns except \"Diagnosis\"\n",
    "y = data.iloc[:, 0]  # \"Diagnosis\" column\n",
    "\n",
    "X_train, X_test, y_train, y_test = train_test_split(X, y, test_size=0.3, random_state=42, stratify=y)\n",
    "\n",
    "print(\"Training and Testing Split:\")\n",
    "print(f\"X_train: {X_train.shape}, X_test: {X_test.shape}\")\n",
    "print(f\"y_train: {y_train.shape}, y_test: {y_test.shape}\")"
   ]
  },
  {
   "cell_type": "markdown",
   "metadata": {},
   "source": [
    "## 2. Use stratify=y in the test_train_split function. Build a pipeline using the Standard scaler and logistic regression."
   ]
  },
  {
   "cell_type": "code",
   "execution_count": 4,
   "metadata": {},
   "outputs": [],
   "source": [
    "# use stratify=y...\n",
    "X_train, X_test, y_train, y_test = train_test_split(\n",
    "    X, y, test_size=0.3, random_state=42, stratify=y\n",
    ")\n",
    "\n",
    "# build a pipeline...\n",
    "pipeline = Pipeline([\n",
    "    ('scaler', StandardScaler()),\n",
    "    ('logreg', LogisticRegression(random_state=42))\n",
    "])"
   ]
  },
  {
   "cell_type": "markdown",
   "metadata": {},
   "source": [
    "## 3. Use the default penalty settings of Logistic Regression. \n",
    "As the penalty parameter is not modified in the LogisticRegression function, the default penalty settings are used."
   ]
  },
  {
   "cell_type": "markdown",
   "metadata": {},
   "source": [
    "## 4. After fitting the data, what is the model’s training and testing accuracy? Which features are most important?"
   ]
  },
  {
   "cell_type": "code",
   "execution_count": 5,
   "metadata": {},
   "outputs": [
    {
     "name": "stdout",
     "output_type": "stream",
     "text": [
      "Training Accuracy: 0.99\n",
      "Testing Accuracy: 0.97\n",
      "\n",
      "Top Features by Importance:\n",
      "                Feature  Importance\n",
      "21        Texture_Worst    1.384327\n",
      "10            Radius_SE    1.205130\n",
      "28       Symmetry_Worst    1.085744\n",
      "13              Area_SE    0.912114\n",
      "15       Compactness_SE    0.904630\n",
      "23           Area_Worst    0.876082\n",
      "7   Concave_Points_Mean    0.853924\n",
      "20         Radius_Worst    0.845014\n",
      "26      Concavity_Worst    0.832548\n",
      "6        Concavity_Mean    0.805938\n"
     ]
    }
   ],
   "source": [
    "# fitting the data\n",
    "pipeline.fit(X_train, y_train)\n",
    "\n",
    "# what is the model's training accuracy\n",
    "y_train_pred = pipeline.predict(X_train)\n",
    "training_accuracy = accuracy_score(y_train, y_train_pred)\n",
    "print(f\"Training Accuracy: {training_accuracy:.2f}\")\n",
    "\n",
    "# what is the model's testing accuracy\n",
    "y_pred = pipeline.predict(X_test)\n",
    "print(f\"Testing Accuracy: {accuracy_score(y_test, y_pred):.2f}\")\n",
    "\n",
    "# Which features are most important?\n",
    "logreg_model = pipeline.named_steps['logreg']\n",
    "feature_importance = np.abs(logreg_model.coef_[0])\n",
    "feature_names = X.columns\n",
    "\n",
    "# show in a df\n",
    "importance_df = pd.DataFrame({\n",
    "    'Feature': feature_names,\n",
    "    'Importance': feature_importance\n",
    "}).sort_values(by='Importance', ascending=False)\n",
    "print(\"\\nTop Features by Importance:\")\n",
    "print(importance_df.head(10))"
   ]
  },
  {
   "cell_type": "markdown",
   "metadata": {},
   "source": [
    ">Answer: The top features according to the model highlights the importance of tumor characteristics associated with worst-case values and variability. Texture_Worst, Symmetry_Worst, and Radius_Worst are the most crucial characteristics, as extreme deviations in texture, form, and size are highly associated with malignancy."
   ]
  },
  {
   "cell_type": "markdown",
   "metadata": {},
   "source": [
    "## 5. Generate a confusion matrix, then calculate the other metrics: F1-score, Precision, Recall, and False alarm rate."
   ]
  },
  {
   "cell_type": "code",
   "execution_count": 6,
   "metadata": {},
   "outputs": [
    {
     "name": "stdout",
     "output_type": "stream",
     "text": [
      "\n",
      "Confusion Matrix:\n",
      "[[106   1]\n",
      " [  4  60]]\n",
      "F1-Score: 0.96\n",
      "Precision: 0.98\n",
      "Recall: 0.94\n",
      "False Alarm Rate: 0.01\n"
     ]
    }
   ],
   "source": [
    "# Generate a confusion matrix\n",
    "conf_matrix = confusion_matrix(y_test, y_pred)\n",
    "print(\"\\nConfusion Matrix:\")\n",
    "print(conf_matrix)\n",
    "\n",
    "# calculate the other metrics\n",
    "TN, FP, FN, TP = conf_matrix.ravel()\n",
    "precision = TP / (TP + FP) if (TP + FP) > 0 else 0\n",
    "recall = TP / (TP + FN) if (TP + FN) > 0 else 0\n",
    "f1_score = 2 * (precision * recall) / (precision + recall) if (precision + recall) > 0 else 0\n",
    "false_alarm_rate = FP / (FP + TN) if (FP + TN) > 0 else 0\n",
    "\n",
    "print(f\"F1-Score: {f1_score:.2f}\")\n",
    "print(f\"Precision: {precision:.2f}\")\n",
    "print(f\"Recall: {recall:.2f}\")\n",
    "print(f\"False Alarm Rate: {false_alarm_rate:.2f}\")"
   ]
  },
  {
   "cell_type": "markdown",
   "metadata": {},
   "source": [
    "## 6. Plot the ROC curve and report the AUC. For this item, provide results separately for both the training and testing data."
   ]
  },
  {
   "cell_type": "code",
   "execution_count": 8,
   "metadata": {},
   "outputs": [
    {
     "data": {
      "image/png": "[encoded data removed]",
      "text/plain": [
       "<Figure size 1000x600 with 1 Axes>"
      ]
     },
     "metadata": {},
     "output_type": "display_data"
    },
    {
     "data": {
      "image/png": "[encoded data removed]",
      "text/plain": [
       "<Figure size 1000x600 with 1 Axes>"
      ]
     },
     "metadata": {},
     "output_type": "display_data"
    },
    {
     "name": "stdout",
     "output_type": "stream",
     "text": [
      "\n",
      "AUC Scores:\n",
      "Training AUC: 0.99724\n",
      "Testing AUC: 0.99752\n"
     ]
    }
   ],
   "source": [
    "# Plot ROC curve and report AUC\n",
    "train_probs = pipeline.predict_proba(X_train)[:, 1]\n",
    "test_probs = pipeline.predict_proba(X_test)[:, 1]\n",
    "\n",
    "# Calculate ROC curves\n",
    "train_fpr, train_tpr, _ = roc_curve(y_train, train_probs)\n",
    "test_fpr, test_tpr, _ = roc_curve(y_test, test_probs)\n",
    "\n",
    "# Calculate AUC scores\n",
    "train_auc = roc_auc_score(y_train, train_probs)\n",
    "test_auc = roc_auc_score(y_test, test_probs)\n",
    "\n",
    "# Plot Training ROC curve\n",
    "plt.figure(figsize=(10, 6))\n",
    "plt.plot(train_fpr, train_tpr, color='orange', label=f'Training ROC (AUC = {train_auc:.5f})')\n",
    "plt.plot([0, 1], [0, 1], 'k--', label='Random Classifier')\n",
    "plt.xlabel('False Positive Rate')\n",
    "plt.ylabel('True Positive Rate')\n",
    "plt.title('Training ROC Curve')\n",
    "plt.legend(loc='best')\n",
    "plt.grid()\n",
    "plt.show()\n",
    "\n",
    "# Plot Testing ROC curve\n",
    "plt.figure(figsize=(10, 6))\n",
    "plt.plot(test_fpr, test_tpr, color='green', label=f'Testing ROC (AUC = {test_auc:.5f})')\n",
    "plt.plot([0, 1], [0, 1], 'k--', label='Random Classifier')\n",
    "plt.xlabel('False Positive Rate')\n",
    "plt.ylabel('True Positive Rate')\n",
    "plt.title('Testing ROC Curve')\n",
    "plt.legend(loc='best')\n",
    "plt.grid()\n",
    "plt.show()\n",
    "\n",
    "print(\"\\nAUC Scores:\")\n",
    "print(f\"Training AUC: {train_auc:.5f}\")\n",
    "print(f\"Testing AUC: {test_auc:.5f}\")"
   ]
  },
  {
   "cell_type": "markdown",
   "metadata": {},
   "source": [
    "# Guide Questions \n",
    "\n",
    "## 1. What steps are required to remove the \"Sample code number\" column?"
   ]
  },
  {
   "cell_type": "markdown",
   "metadata": {},
   "source": [
    ">Answer: To remove the \"Sample code number\" column, first combine the column names from wdbc.names and the corresponding data and represent it into a DataFrame, as we did with the previous codes. Then, using the data.drop() function and the column argument, we can remove the \"Sample code number\" or \"ID\"(based on the wdbc.names file)."
   ]
  },
  {
   "cell_type": "markdown",
   "metadata": {},
   "source": [
    "## 2. How can the \"Class\" values be converted into binary (0 and 1) form in Python?"
   ]
  },
  {
   "cell_type": "markdown",
   "metadata": {},
   "source": [
    ">Answer: The \"Class\" values can be converted by using the data.map() function in Python with the necessary arguments, such as which data are being referred to and the arguments to replace M with 1 and B with 0, and then store it as a new data of the \"Diagnosis\" Column. Here's the complete code:\n",
    ">\n",
    ">data[\"Diagnosis\"] = data[\"Diagnosis\"].map({\"M\": 1, \"B\": 0})"
   ]
  },
  {
   "cell_type": "markdown",
   "metadata": {},
   "source": [
    "## 3. What is the importance of splitting the dataset in training and test sets?\n",
    "    "
   ]
  },
  {
   "cell_type": "markdown",
   "metadata": {},
   "source": [
    ">Answer: Splitting the dataset into training and test sets avoids the model from being overly fitted or underdly fitted. This also avoids the model to become bias when similar data from the datasets were used to test its functionality, especially if the model turned out to be overly fitted."
   ]
  },
  {
   "cell_type": "markdown",
   "metadata": {},
   "source": [
    "## 4. Why is it necessary to use the stratify parameter in the train_test_split function?"
   ]
  },
  {
   "cell_type": "markdown",
   "metadata": {},
   "source": [
    ">Answer: Stratify parameter ensures that the proportion of values in the sample produced will be the same as the proportion of values provided in the stratify parameter. This is useful when dealing with imbalanced datasets where the distribution of target labels is different in the training and test sets. "
   ]
  },
  {
   "cell_type": "markdown",
   "metadata": {},
   "source": [
    "## 5. What is logistic regeression, and why is it suitable for this dataset?"
   ]
  },
  {
   "cell_type": "markdown",
   "metadata": {},
   "source": [
    ">Answer: Logistic regression is a statistical model used for binary classification tasks. It is a linear model that predicts the probability of a binary outcome based on a set of independent variables. Since the dataset used has target lavels that are in binary (the malignant or benign), logistic regeression is suitable for it. Furthermore, the mode utilize a sigmoid function to map the predicted probabilities to the range of 0 to 1, which can be interpreted as the probability of the outcome being positive."
   ]
  },
  {
   "cell_type": "markdown",
   "metadata": {},
   "source": [
    "## 6. How can the training and testing accuracy of the logistic regression model be calculated?"
   ]
  },
  {
   "cell_type": "markdown",
   "metadata": {},
   "source": [
    ">Answer: Training accuracy is calculated by comparing the predicted labels of the training set with the actual labels. Both accuracy scores give an overall idea of how well the model performs on unseen data."
   ]
  },
  {
   "cell_type": "markdown",
   "metadata": {},
   "source": [
    "## 7. Which features in the dataset are most influential in determining the tumor status, and how can their importance be assessed?"
   ]
  },
  {
   "cell_type": "markdown",
   "metadata": {},
   "source": [
    ">Answer: The most influential features in determining tumor status are Texture_Worst, Radius_SE, Symmetry_Worst, Area_SE, and Compactness_SE. These features are the top 5 features that have the largest absolute coefficients in the Logistic Regression model. Their importance can be assessed by extracting and analyzing the absolute values of the model's coefficients using the model.coef_ function. Features with greater coefficients are more impactful in predicting tumor malignancy."
   ]
  },
  {
   "cell_type": "markdown",
   "metadata": {},
   "source": [
    "## 8. How is a confusion matrix generated, and what does it represent?"
   ]
  },
  {
   "cell_type": "markdown",
   "metadata": {},
   "source": [
    ">Answer: A confusion matrix is a table that summarizes the performance of a classification model. It shows the number of true positives, true negatives, false positives, and false negatives for each possible outcome. The diagonal elements in the matrix represent correct predictions, while the off-diagonal elements represent incorrect predictions."
   ]
  },
  {
   "cell_type": "markdown",
   "metadata": {},
   "source": [
    "## 9. How are precision, recall, F1-score, and false alarm rate calculated from the confusion matrix?"
   ]
  },
  {
   "cell_type": "markdown",
   "metadata": {},
   "source": [
    ">Answer: Precision is calculated as the ratio of true positives to the sum of true positives and false positives. It measures the accuracy of the positive predictions. Recall is calculated as the ratio of true positives to the sum of true positives and false negatives. It measures the proportion of actual positive cases that were correctly identified. F1-score is a harmonic mean of precision and recall, which gives a balanced measure of the model's performance."
   ]
  },
  {
   "cell_type": "markdown",
   "metadata": {},
   "source": [
    "## 10. Why are theses metrics important for evaluating the performance of a classifier?"
   ]
  },
  {
   "cell_type": "markdown",
   "metadata": {},
   "source": [
    ">Answer: These metrics are important for evaluating the performance of a classifier because they provide a comprehensive evaluation of the model's predictions. They help to understand the model's strengths, weaknesses, and areas for improvement. For example, a high precision value indicates that the model is correctly identifying positive cases, while a high recall value indicates that the model is correctly identifying all actual positive cases. F1-score and false alarm rate help to measure the model's overall performance and identify areas for improvement."
   ]
  },
  {
   "cell_type": "markdown",
   "metadata": {},
   "source": [
    "## 11. What is an ROC curve, and how is it plotted for a logistic regression model?"
   ]
  },
  {
   "cell_type": "markdown",
   "metadata": {},
   "source": [
    ">Answer: An ROC curve (Receiver Operating Characteristic) is a graphical representation of a model's performance across multiple classification thresholds. It compares the true positive rate (sensitivity) and the false positive rate (1-specificity). Logistic regression is plotted by calculating predicted probabilities, varying the decision threshold, and then calculating true and false positive rates for each threshold."
   ]
  },
  {
   "cell_type": "markdown",
   "metadata": {},
   "source": [
    "## 12. How is the AUC (Area Under the Curve) calculated, and what does it signify about the model's performance?"
   ]
  },
  {
   "cell_type": "markdown",
   "metadata": {},
   "source": [
    ">Answer: The AUC (Area Under the Curve) is calculated by integrating the ROC curve. It measures the model's ability to rank positive instances greater than negative ones. AUC values range from 0.5 (random guessing) to 1.0 (perfect discrimination), with higher values indicating better model performance at distinguishing between classes."
   ]
  },
  {
   "cell_type": "markdown",
   "metadata": {},
   "source": [
    "## 13. How do the training and testing ROC curves compare, and what insights can be derived from this comparison?"
   ]
  },
  {
   "cell_type": "markdown",
   "metadata": {},
   "source": [
    ">Answer: Based on the results, the training and testing ROC curves are nearly identical, with both achieving an AUC of almost 1, indicating excellent discriminatory ability. However, there are slight differences in the curve's shape, particularly near the lower false positive rate region. This suggests that, while the model performs well on training data, its predictions on testing data are slightly more confident. The similarities between these curves indicate a well-fitted model with minimal overfitting."
   ]
  },
  {
   "cell_type": "markdown",
   "metadata": {},
   "source": [
    "## 14. What challenges did you encounter during the preprocessing or model training phases, and how did you address them?"
   ]
  },
  {
   "cell_type": "markdown",
   "metadata": {},
   "source": [
    ">Answer: During the preprocessing phase, challenges included understanding the dataset's structure, dealing with missing values, and ensuring proper stratification during data splitting. Ensuring and understanding stratification was important because it helps maintain the class distribution in both the training and testing datasets, reducing the possibility that these scores were inflated due to imbalanced data. Missing values were addressed by removing rows with incomplete data, resulting in consistent inputs. Furthermore, the unusually high AUC values prompted a closer look into potential feature leakage. Analyzing feature correlations and their relationships with the target variable was done to confirm that the high performance was caused by genuine predictive patterns rather than unintended dependencies."
   ]
  },
  {
   "cell_type": "markdown",
   "metadata": {},
   "source": [
    "## 15. If the model's performance is not satisfactory, what adjustments could be made to improve it?"
   ]
  },
  {
   "cell_type": "markdown",
   "metadata": {},
   "source": [
    ">Answer: If the model's performance is unsatisfactory, adjustments can be made to improve data quality, feature engineering, and optimizing the model's configuration settings. Hyperparameter tuning, such as changing the regularization strength (C in logistic regression), can help balance bias and variance, reducing overfitting or underfitting. Feature selection can remove irrelevant or redundant features, whereas feature engineering, such as creating interaction terms, scaling, or transforming non-linear relationships, can improve the dataset's accuracy. Furthermore, collecting more data can improve the model's generalizability, especially if the current dataset is small or imbalanced. Finally, using cross-validation during training ensures that the model is tested on multiple subsets of the data, resulting in a more robust evaluation and lower risk of overfitting."
   ]
  }
 ],
 "metadata": {
  "kernelspec": {
   "display_name": "Python 3",
   "language": "python",
   "name": "python3"
  },
  "language_info": {
   "codemirror_mode": {
    "name": "ipython",
    "version": 3
   },
   "file_extension": ".py",
   "mimetype": "text/x-python",
   "name": "python",
   "nbconvert_exporter": "python",
   "pygments_lexer": "ipython3",
   "version": "3.13.0"
  }
 },
 "nbformat": 4,
 "nbformat_minor": 2
}
