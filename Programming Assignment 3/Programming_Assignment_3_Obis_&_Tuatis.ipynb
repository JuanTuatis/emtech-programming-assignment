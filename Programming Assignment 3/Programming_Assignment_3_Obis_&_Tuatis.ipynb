{
 "cells": [
  {
   "cell_type": "markdown",
   "metadata": {},
   "source": [
    "### Programming Assignment 3 \n",
    "# **Logicstic Regression**\n",
    "\n",
    "AJ Dave A. Obis and Juan Francis C. Tuatis"
   ]
  },
  {
   "cell_type": "code",
   "execution_count": 15,
   "metadata": {},
   "outputs": [],
   "source": [
    "# import necessary libraries\n",
    "import pandas as pd\n",
    "\n",
    "# load the data\n",
    "# define column names based on the dataset description\n",
    "dataset_columns = [\n",
    "    \"ID\", \"Diagnosis\", \"Radius_Mean\", \"Texture_Mean\", \"Perimeter_Mean\", \"Area_Mean\",\n",
    "    \"Smoothness_Mean\", \"Compactness_Mean\", \"Concavity_Mean\", \"Concave_Points_Mean\",\n",
    "    \"Symmetry_Mean\", \"Fractal_Dimension_Mean\", \"Radius_SE\", \"Texture_SE\", \"Perimeter_SE\",\n",
    "    \"Area_SE\", \"Smoothness_SE\", \"Compactness_SE\", \"Concavity_SE\", \"Concave_Points_SE\",\n",
    "    \"Symmetry_SE\", \"Fractal_Dimension_SE\", \"Radius_Worst\", \"Texture_Worst\", \"Perimeter_Worst\",\n",
    "    \"Area_Worst\", \"Smoothness_Worst\", \"Compactness_Worst\", \"Concavity_Worst\", \"Concave_Points_Worst\",\n",
    "    \"Symmetry_Worst\", \"Fractal_Dimension_Worst\"\n",
    "]\n",
    "\n",
    "# load the dataset with proper structure\n",
    "data_path = \"wdbc.data\"\n",
    "data = pd.read_csv(data_path, header=None, names=dataset_columns)"
   ]
  },
  {
   "cell_type": "markdown",
   "metadata": {},
   "source": [
    "### Data Pre-Processing"
   ]
  },
  {
   "cell_type": "code",
   "execution_count": 16,
   "metadata": {},
   "outputs": [
    {
     "name": "stdout",
     "output_type": "stream",
     "text": [
      "   Diagnosis  Radius_Mean  Texture_Mean  Perimeter_Mean  Area_Mean  \\\n",
      "0          1        17.99         10.38          122.80     1001.0   \n",
      "1          1        20.57         17.77          132.90     1326.0   \n",
      "2          1        19.69         21.25          130.00     1203.0   \n",
      "3          1        11.42         20.38           77.58      386.1   \n",
      "4          1        20.29         14.34          135.10     1297.0   \n",
      "\n",
      "   Smoothness_Mean  Compactness_Mean  Concavity_Mean  Concave_Points_Mean  \\\n",
      "0          0.11840           0.27760          0.3001              0.14710   \n",
      "1          0.08474           0.07864          0.0869              0.07017   \n",
      "2          0.10960           0.15990          0.1974              0.12790   \n",
      "3          0.14250           0.28390          0.2414              0.10520   \n",
      "4          0.10030           0.13280          0.1980              0.10430   \n",
      "\n",
      "   Symmetry_Mean  ...  Radius_Worst  Texture_Worst  Perimeter_Worst  \\\n",
      "0         0.2419  ...         25.38          17.33           184.60   \n",
      "1         0.1812  ...         24.99          23.41           158.80   \n",
      "2         0.2069  ...         23.57          25.53           152.50   \n",
      "3         0.2597  ...         14.91          26.50            98.87   \n",
      "4         0.1809  ...         22.54          16.67           152.20   \n",
      "\n",
      "   Area_Worst  Smoothness_Worst  Compactness_Worst  Concavity_Worst  \\\n",
      "0      2019.0            0.1622             0.6656           0.7119   \n",
      "1      1956.0            0.1238             0.1866           0.2416   \n",
      "2      1709.0            0.1444             0.4245           0.4504   \n",
      "3       567.7            0.2098             0.8663           0.6869   \n",
      "4      1575.0            0.1374             0.2050           0.4000   \n",
      "\n",
      "   Concave_Points_Worst  Symmetry_Worst  Fractal_Dimension_Worst  \n",
      "0                0.2654          0.4601                  0.11890  \n",
      "1                0.1860          0.2750                  0.08902  \n",
      "2                0.2430          0.3613                  0.08758  \n",
      "3                0.2575          0.6638                  0.17300  \n",
      "4                0.1625          0.2364                  0.07678  \n",
      "\n",
      "[5 rows x 31 columns]\n"
     ]
    }
   ],
   "source": [
    "# remove rows with missing values\n",
    "data.dropna(inplace=True)\n",
    "\n",
    "# remove the column “Sample code number”\n",
    "data.drop(columns=[\"ID\"], inplace=True)\n",
    "\n",
    "# replace the “Class” values into 0’s and 1’s (0 for benign, 1 for malignant).\n",
    "data[\"Diagnosis\"] = data[\"Diagnosis\"].map({\"M\": 1, \"B\": 0})\n",
    "\n",
    "print(data.head())"
   ]
  },
  {
   "cell_type": "markdown",
   "metadata": {},
   "source": [
    "# **General Guidelines**\n",
    "## 1. Split the samples into 70% Training and 30% Testing at random.\n"
   ]
  },
  {
   "cell_type": "code",
   "execution_count": null,
   "metadata": {},
   "outputs": [],
   "source": []
  },
  {
   "cell_type": "markdown",
   "metadata": {},
   "source": []
  }
 ],
 "metadata": {
  "kernelspec": {
   "display_name": "Python 3",
   "language": "python",
   "name": "python3"
  },
  "language_info": {
   "codemirror_mode": {
    "name": "ipython",
    "version": 3
   },
   "file_extension": ".py",
   "mimetype": "text/x-python",
   "name": "python",
   "nbconvert_exporter": "python",
   "pygments_lexer": "ipython3",
   "version": "3.13.0"
  }
 },
 "nbformat": 4,
 "nbformat_minor": 2
}
